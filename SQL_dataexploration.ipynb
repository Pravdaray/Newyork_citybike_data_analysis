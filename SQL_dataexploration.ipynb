{
 "cells": [
  {
   "cell_type": "markdown",
   "id": "a10b25c3",
   "metadata": {},
   "source": [
    "This notebook is to handle different SQL queries to better explore and understand the data. The data cleaning and covertion to pandas for different type of data handling is already done. Here importance is for SQL."
   ]
  },
  {
   "cell_type": "code",
   "execution_count": 4,
   "id": "749f272a",
   "metadata": {},
   "outputs": [],
   "source": [
    "import pandas as pd\n",
    "import pandas_gbq\n",
    "from google.cloud import bigquery\n",
    "%load_ext google.cloud.bigquery\n",
    "# Set your default project here\n",
    "pandas_gbq.context.project = 'bigquery-public-data'\n",
    "pandas_gbq.context.dialect = 'standard'"
   ]
  },
  {
   "cell_type": "code",
   "execution_count": 5,
   "id": "5858b4d3",
   "metadata": {},
   "outputs": [],
   "source": [
    "import os\n",
    "os.environ[\"GOOGLE_APPLICATION_CREDENTIALS\"]=r\"C:\\Users\\pravd\\Downloads\\unacast-334100-f70d949ff84e.json\""
   ]
  },
  {
   "cell_type": "markdown",
   "id": "329dae05",
   "metadata": {},
   "source": [
    "The below query returns number of bikes in usage per year"
   ]
  },
  {
   "cell_type": "code",
   "execution_count": 7,
   "id": "e67435b5",
   "metadata": {},
   "outputs": [
    {
     "name": "stderr",
     "output_type": "stream",
     "text": [
      "Query complete after 0.09s: 100%|████████████████████████████████████████████████████| 4/4 [00:00<00:00, 802.12query/s]\n",
      "Downloading: 100%|█████████████████████████████████████████████████████████████████████| 7/7 [00:02<00:00,  2.38rows/s]\n"
     ]
    },
    {
     "data": {
      "text/html": [
       "<div>\n",
       "<style scoped>\n",
       "    .dataframe tbody tr th:only-of-type {\n",
       "        vertical-align: middle;\n",
       "    }\n",
       "\n",
       "    .dataframe tbody tr th {\n",
       "        vertical-align: top;\n",
       "    }\n",
       "\n",
       "    .dataframe thead th {\n",
       "        text-align: right;\n",
       "    }\n",
       "</style>\n",
       "<table border=\"1\" class=\"dataframe\">\n",
       "  <thead>\n",
       "    <tr style=\"text-align: right;\">\n",
       "      <th></th>\n",
       "      <th>year</th>\n",
       "      <th>num_bikes</th>\n",
       "    </tr>\n",
       "  </thead>\n",
       "  <tbody>\n",
       "    <tr>\n",
       "      <th>0</th>\n",
       "      <td>NaN</td>\n",
       "      <td>0</td>\n",
       "    </tr>\n",
       "    <tr>\n",
       "      <th>1</th>\n",
       "      <td>2013.0</td>\n",
       "      <td>6503</td>\n",
       "    </tr>\n",
       "    <tr>\n",
       "      <th>2</th>\n",
       "      <td>2014.0</td>\n",
       "      <td>6811</td>\n",
       "    </tr>\n",
       "    <tr>\n",
       "      <th>3</th>\n",
       "      <td>2015.0</td>\n",
       "      <td>8477</td>\n",
       "    </tr>\n",
       "    <tr>\n",
       "      <th>4</th>\n",
       "      <td>2016.0</td>\n",
       "      <td>10495</td>\n",
       "    </tr>\n",
       "    <tr>\n",
       "      <th>5</th>\n",
       "      <td>2017.0</td>\n",
       "      <td>13820</td>\n",
       "    </tr>\n",
       "    <tr>\n",
       "      <th>6</th>\n",
       "      <td>2018.0</td>\n",
       "      <td>12947</td>\n",
       "    </tr>\n",
       "  </tbody>\n",
       "</table>\n",
       "</div>"
      ],
      "text/plain": [
       "     year  num_bikes\n",
       "0     NaN          0\n",
       "1  2013.0       6503\n",
       "2  2014.0       6811\n",
       "3  2015.0       8477\n",
       "4  2016.0      10495\n",
       "5  2017.0      13820\n",
       "6  2018.0      12947"
      ]
     },
     "execution_count": 7,
     "metadata": {},
     "output_type": "execute_result"
    }
   ],
   "source": [
    "%%bigquery\n",
    "SELECT EXTRACT(YEAR FROM starttime) AS year, \n",
    "       COUNT(DISTINCT(bikeid)) AS num_bikes\n",
    "FROM `bigquery-public-data.new_york_citibike.citibike_trips`\n",
    "GROUP BY year\n",
    "ORDER BY year;"
   ]
  },
  {
   "cell_type": "markdown",
   "id": "1d2e7ce0",
   "metadata": {},
   "source": [
    "The below query returns count of subscribers and customers "
   ]
  },
  {
   "cell_type": "code",
   "execution_count": 12,
   "id": "402eca92",
   "metadata": {},
   "outputs": [
    {
     "name": "stderr",
     "output_type": "stream",
     "text": [
      "Query complete after 0.01s: 100%|████████████████████████████████████████████████████| 3/3 [00:00<00:00, 501.39query/s]\n",
      "Downloading: 100%|█████████████████████████████████████████████████████████████████████| 7/7 [00:01<00:00,  4.55rows/s]\n"
     ]
    },
    {
     "data": {
      "text/html": [
       "<div>\n",
       "<style scoped>\n",
       "    .dataframe tbody tr th:only-of-type {\n",
       "        vertical-align: middle;\n",
       "    }\n",
       "\n",
       "    .dataframe tbody tr th {\n",
       "        vertical-align: top;\n",
       "    }\n",
       "\n",
       "    .dataframe thead th {\n",
       "        text-align: right;\n",
       "    }\n",
       "</style>\n",
       "<table border=\"1\" class=\"dataframe\">\n",
       "  <thead>\n",
       "    <tr style=\"text-align: right;\">\n",
       "      <th></th>\n",
       "      <th>year</th>\n",
       "      <th>count_sub</th>\n",
       "      <th>count_cus</th>\n",
       "    </tr>\n",
       "  </thead>\n",
       "  <tbody>\n",
       "    <tr>\n",
       "      <th>0</th>\n",
       "      <td>NaN</td>\n",
       "      <td>0</td>\n",
       "      <td>0</td>\n",
       "    </tr>\n",
       "    <tr>\n",
       "      <th>1</th>\n",
       "      <td>2013.0</td>\n",
       "      <td>4370245</td>\n",
       "      <td>666940</td>\n",
       "    </tr>\n",
       "    <tr>\n",
       "      <th>2</th>\n",
       "      <td>2014.0</td>\n",
       "      <td>7287721</td>\n",
       "      <td>793495</td>\n",
       "    </tr>\n",
       "    <tr>\n",
       "      <th>3</th>\n",
       "      <td>2015.0</td>\n",
       "      <td>8626638</td>\n",
       "      <td>1311331</td>\n",
       "    </tr>\n",
       "    <tr>\n",
       "      <th>4</th>\n",
       "      <td>2016.0</td>\n",
       "      <td>9026384</td>\n",
       "      <td>1236265</td>\n",
       "    </tr>\n",
       "    <tr>\n",
       "      <th>5</th>\n",
       "      <td>2017.0</td>\n",
       "      <td>12441957</td>\n",
       "      <td>1676712</td>\n",
       "    </tr>\n",
       "    <tr>\n",
       "      <th>6</th>\n",
       "      <td>2018.0</td>\n",
       "      <td>5164627</td>\n",
       "      <td>506406</td>\n",
       "    </tr>\n",
       "  </tbody>\n",
       "</table>\n",
       "</div>"
      ],
      "text/plain": [
       "     year  count_sub  count_cus\n",
       "0     NaN          0          0\n",
       "1  2013.0    4370245     666940\n",
       "2  2014.0    7287721     793495\n",
       "3  2015.0    8626638    1311331\n",
       "4  2016.0    9026384    1236265\n",
       "5  2017.0   12441957    1676712\n",
       "6  2018.0    5164627     506406"
      ]
     },
     "execution_count": 12,
     "metadata": {},
     "output_type": "execute_result"
    }
   ],
   "source": [
    "%%bigquery\n",
    "\n",
    "SELECT EXTRACT(YEAR FROM starttime) AS year,\n",
    "COUNT(CASE WHEN usertype= 'Subscriber' THEN 1 END) AS count_sub,\n",
    "COUNT(CASE WHEN usertype= 'Customer' THEN 1 END) AS count_cus,\n",
    "FROM `bigquery-public-data.new_york_citibike.citibike_trips`\n",
    "GROUP BY year\n",
    "ORDER BY year;"
   ]
  },
  {
   "cell_type": "markdown",
   "id": "929e0b5a",
   "metadata": {},
   "source": [
    "The below query returns count on female and male"
   ]
  },
  {
   "cell_type": "code",
   "execution_count": 22,
   "id": "ca7a524b",
   "metadata": {},
   "outputs": [
    {
     "name": "stderr",
     "output_type": "stream",
     "text": [
      "Query complete after 0.00s: 100%|████████████████████████████████████████████████████| 3/3 [00:00<00:00, 752.39query/s]\n",
      "Downloading: 100%|█████████████████████████████████████████████████████████████████████| 7/7 [00:02<00:00,  2.45rows/s]\n"
     ]
    },
    {
     "data": {
      "text/html": [
       "<div>\n",
       "<style scoped>\n",
       "    .dataframe tbody tr th:only-of-type {\n",
       "        vertical-align: middle;\n",
       "    }\n",
       "\n",
       "    .dataframe tbody tr th {\n",
       "        vertical-align: top;\n",
       "    }\n",
       "\n",
       "    .dataframe thead th {\n",
       "        text-align: right;\n",
       "    }\n",
       "</style>\n",
       "<table border=\"1\" class=\"dataframe\">\n",
       "  <thead>\n",
       "    <tr style=\"text-align: right;\">\n",
       "      <th></th>\n",
       "      <th>year</th>\n",
       "      <th>count_fem</th>\n",
       "      <th>count_male</th>\n",
       "    </tr>\n",
       "  </thead>\n",
       "  <tbody>\n",
       "    <tr>\n",
       "      <th>0</th>\n",
       "      <td>NaN</td>\n",
       "      <td>0</td>\n",
       "      <td>0</td>\n",
       "    </tr>\n",
       "    <tr>\n",
       "      <th>1</th>\n",
       "      <td>2013.0</td>\n",
       "      <td>1034631</td>\n",
       "      <td>3335391</td>\n",
       "    </tr>\n",
       "    <tr>\n",
       "      <th>2</th>\n",
       "      <td>2014.0</td>\n",
       "      <td>1650274</td>\n",
       "      <td>5635962</td>\n",
       "    </tr>\n",
       "    <tr>\n",
       "      <th>3</th>\n",
       "      <td>2015.0</td>\n",
       "      <td>2006962</td>\n",
       "      <td>6608929</td>\n",
       "    </tr>\n",
       "    <tr>\n",
       "      <th>4</th>\n",
       "      <td>2016.0</td>\n",
       "      <td>2186917</td>\n",
       "      <td>6769032</td>\n",
       "    </tr>\n",
       "    <tr>\n",
       "      <th>5</th>\n",
       "      <td>2017.0</td>\n",
       "      <td>3236735</td>\n",
       "      <td>9306602</td>\n",
       "    </tr>\n",
       "    <tr>\n",
       "      <th>6</th>\n",
       "      <td>2018.0</td>\n",
       "      <td>1260893</td>\n",
       "      <td>3955871</td>\n",
       "    </tr>\n",
       "  </tbody>\n",
       "</table>\n",
       "</div>"
      ],
      "text/plain": [
       "     year  count_fem  count_male\n",
       "0     NaN          0           0\n",
       "1  2013.0    1034631     3335391\n",
       "2  2014.0    1650274     5635962\n",
       "3  2015.0    2006962     6608929\n",
       "4  2016.0    2186917     6769032\n",
       "5  2017.0    3236735     9306602\n",
       "6  2018.0    1260893     3955871"
      ]
     },
     "execution_count": 22,
     "metadata": {},
     "output_type": "execute_result"
    }
   ],
   "source": [
    "%%bigquery\n",
    "SELECT EXTRACT(YEAR FROM starttime) AS year,\n",
    "COUNT(CASE WHEN gender= 'female' THEN 1 END) AS count_fem,\n",
    "COUNT(CASE WHEN gender= 'male' THEN 1 END) AS count_male,\n",
    "FROM `bigquery-public-data.new_york_citibike.citibike_trips`\n",
    "GROUP BY year\n",
    "ORDER BY year;"
   ]
  },
  {
   "cell_type": "markdown",
   "id": "33ee445d",
   "metadata": {},
   "source": [
    "Query Visualize using pandas"
   ]
  },
  {
   "cell_type": "code",
   "execution_count": 23,
   "id": "f537b850",
   "metadata": {},
   "outputs": [],
   "source": [
    "\n",
    "client = bigquery.Client()"
   ]
  },
  {
   "cell_type": "code",
   "execution_count": 43,
   "id": "3f284b46",
   "metadata": {},
   "outputs": [
    {
     "data": {
      "text/html": [
       "<div>\n",
       "<style scoped>\n",
       "    .dataframe tbody tr th:only-of-type {\n",
       "        vertical-align: middle;\n",
       "    }\n",
       "\n",
       "    .dataframe tbody tr th {\n",
       "        vertical-align: top;\n",
       "    }\n",
       "\n",
       "    .dataframe thead th {\n",
       "        text-align: right;\n",
       "    }\n",
       "</style>\n",
       "<table border=\"1\" class=\"dataframe\">\n",
       "  <thead>\n",
       "    <tr style=\"text-align: right;\">\n",
       "      <th></th>\n",
       "      <th>year</th>\n",
       "      <th>count_fem</th>\n",
       "      <th>count_male</th>\n",
       "    </tr>\n",
       "  </thead>\n",
       "  <tbody>\n",
       "    <tr>\n",
       "      <th>1</th>\n",
       "      <td>2013.0</td>\n",
       "      <td>1034631</td>\n",
       "      <td>3335391</td>\n",
       "    </tr>\n",
       "    <tr>\n",
       "      <th>2</th>\n",
       "      <td>2014.0</td>\n",
       "      <td>1650274</td>\n",
       "      <td>5635962</td>\n",
       "    </tr>\n",
       "    <tr>\n",
       "      <th>3</th>\n",
       "      <td>2015.0</td>\n",
       "      <td>2006962</td>\n",
       "      <td>6608929</td>\n",
       "    </tr>\n",
       "    <tr>\n",
       "      <th>4</th>\n",
       "      <td>2016.0</td>\n",
       "      <td>2186917</td>\n",
       "      <td>6769032</td>\n",
       "    </tr>\n",
       "    <tr>\n",
       "      <th>5</th>\n",
       "      <td>2017.0</td>\n",
       "      <td>3236735</td>\n",
       "      <td>9306602</td>\n",
       "    </tr>\n",
       "  </tbody>\n",
       "</table>\n",
       "</div>"
      ],
      "text/plain": [
       "     year  count_fem  count_male\n",
       "1  2013.0    1034631     3335391\n",
       "2  2014.0    1650274     5635962\n",
       "3  2015.0    2006962     6608929\n",
       "4  2016.0    2186917     6769032\n",
       "5  2017.0    3236735     9306602"
      ]
     },
     "execution_count": 43,
     "metadata": {},
     "output_type": "execute_result"
    }
   ],
   "source": [
    "sql = \"\"\" SELECT EXTRACT(YEAR FROM starttime) AS year,\n",
    "COUNT(CASE WHEN gender= 'female' THEN 1 END) AS count_fem,\n",
    "COUNT(CASE WHEN gender= 'male' THEN 1 END) AS count_male,\n",
    "FROM `bigquery-public-data.new_york_citibike.citibike_trips`\n",
    "GROUP BY year\n",
    "ORDER BY year; \"\"\"\n",
    "\n",
    "df = client.query(sql).to_dataframe()\n",
    "df.dropna(inplace=True)\n",
    "df.head()"
   ]
  },
  {
   "cell_type": "code",
   "execution_count": 44,
   "id": "ad9d0645",
   "metadata": {},
   "outputs": [],
   "source": [
    "%matplotlib inline"
   ]
  },
  {
   "cell_type": "code",
   "execution_count": 45,
   "id": "b67482fe",
   "metadata": {},
   "outputs": [
    {
     "data": {
      "text/plain": [
       "<AxesSubplot:xlabel='year'>"
      ]
     },
     "execution_count": 45,
     "metadata": {},
     "output_type": "execute_result"
    },
    {
     "data": {
      "image/png": "[encoded data removed]",
      "text/plain": [
       "<Figure size 432x288 with 1 Axes>"
      ]
     },
     "metadata": {
      "needs_background": "light"
     },
     "output_type": "display_data"
    }
   ],
   "source": [
    "df.plot(x=\"year\", y=[\"count_fem\", \"count_male\"], kind=\"bar\")"
   ]
  },
  {
   "cell_type": "code",
   "execution_count": 49,
   "id": "86e3bb74",
   "metadata": {},
   "outputs": [],
   "source": [
    "sql_1 = \"\"\"SELECT\n",
    "  EXTRACT(year\n",
    "  FROM\n",
    "    starttime) AS year,\n",
    "  SUM(CASE\n",
    "      WHEN gender='female' THEN tripduration\n",
    "  END\n",
    "    )/60*60 AS Male_ride_time,\n",
    "  SUM(CASE\n",
    "      WHEN gender='male' THEN tripduration\n",
    "  END\n",
    "    )/60*60 AS Female_ride_time\n",
    "FROM\n",
    "  `bigquery-public-data.new_york_citibike.citibike_trips`\n",
    "GROUP BY\n",
    "  year\n",
    "HAVING \n",
    "  year is NOT NULL\n",
    "ORDER BY\n",
    "  year DESC\"\"\""
   ]
  },
  {
   "cell_type": "code",
   "execution_count": 50,
   "id": "c633460b",
   "metadata": {},
   "outputs": [
    {
     "data": {
      "text/html": [
       "<div>\n",
       "<style scoped>\n",
       "    .dataframe tbody tr th:only-of-type {\n",
       "        vertical-align: middle;\n",
       "    }\n",
       "\n",
       "    .dataframe tbody tr th {\n",
       "        vertical-align: top;\n",
       "    }\n",
       "\n",
       "    .dataframe thead th {\n",
       "        text-align: right;\n",
       "    }\n",
       "</style>\n",
       "<table border=\"1\" class=\"dataframe\">\n",
       "  <thead>\n",
       "    <tr style=\"text-align: right;\">\n",
       "      <th></th>\n",
       "      <th>year</th>\n",
       "      <th>Male_ride_time</th>\n",
       "      <th>Female_ride_time</th>\n",
       "    </tr>\n",
       "  </thead>\n",
       "  <tbody>\n",
       "    <tr>\n",
       "      <th>0</th>\n",
       "      <td>2018</td>\n",
       "      <td>1.267776e+09</td>\n",
       "      <td>3.252467e+09</td>\n",
       "    </tr>\n",
       "    <tr>\n",
       "      <th>1</th>\n",
       "      <td>2017</td>\n",
       "      <td>3.342083e+09</td>\n",
       "      <td>8.188900e+09</td>\n",
       "    </tr>\n",
       "    <tr>\n",
       "      <th>2</th>\n",
       "      <td>2016</td>\n",
       "      <td>2.063674e+09</td>\n",
       "      <td>5.397053e+09</td>\n",
       "    </tr>\n",
       "    <tr>\n",
       "      <th>3</th>\n",
       "      <td>2015</td>\n",
       "      <td>1.878910e+09</td>\n",
       "      <td>5.142384e+09</td>\n",
       "    </tr>\n",
       "    <tr>\n",
       "      <th>4</th>\n",
       "      <td>2014</td>\n",
       "      <td>1.427969e+09</td>\n",
       "      <td>4.165423e+09</td>\n",
       "    </tr>\n",
       "  </tbody>\n",
       "</table>\n",
       "</div>"
      ],
      "text/plain": [
       "   year  Male_ride_time  Female_ride_time\n",
       "0  2018    1.267776e+09      3.252467e+09\n",
       "1  2017    3.342083e+09      8.188900e+09\n",
       "2  2016    2.063674e+09      5.397053e+09\n",
       "3  2015    1.878910e+09      5.142384e+09\n",
       "4  2014    1.427969e+09      4.165423e+09"
      ]
     },
     "execution_count": 50,
     "metadata": {},
     "output_type": "execute_result"
    }
   ],
   "source": [
    "df2 = client.query(sql_1).to_dataframe()\n",
    "df2.dropna(inplace=True)\n",
    "df2.head()\n"
   ]
  },
  {
   "cell_type": "code",
   "execution_count": 52,
   "id": "c174ff1c",
   "metadata": {},
   "outputs": [
    {
     "data": {
      "text/plain": [
       "<AxesSubplot:xlabel='year'>"
      ]
     },
     "execution_count": 52,
     "metadata": {},
     "output_type": "execute_result"
    },
    {
     "data": {
      "image/png": "[encoded data removed]",
      "text/plain": [
       "<Figure size 432x288 with 1 Axes>"
      ]
     },
     "metadata": {
      "needs_background": "light"
     },
     "output_type": "display_data"
    }
   ],
   "source": [
    "%matplotlib inline\n",
    "df2.plot(x=\"year\", y=[\"Male_ride_time\", \"Female_ride_time\"], kind=\"bar\")"
   ]
  },
  {
   "cell_type": "markdown",
   "id": "4058620d",
   "metadata": {},
   "source": [
    "The below query returns most popular start and end stations"
   ]
  },
  {
   "cell_type": "code",
   "execution_count": 62,
   "id": "c09040a6",
   "metadata": {},
   "outputs": [],
   "source": [
    "sql_2 = \"\"\"SELECT start_station_name, end_station_name, COUNT(*) AS count\n",
    "FROM `bigquery-public-data.new_york.citibike_trips`\n",
    "GROUP BY start_station_name, end_station_name\n",
    "ORDER BY count DESC \"\"\"\n"
   ]
  },
  {
   "cell_type": "code",
   "execution_count": 63,
   "id": "e355dffb",
   "metadata": {},
   "outputs": [
    {
     "data": {
      "text/html": [
       "<div>\n",
       "<style scoped>\n",
       "    .dataframe tbody tr th:only-of-type {\n",
       "        vertical-align: middle;\n",
       "    }\n",
       "\n",
       "    .dataframe tbody tr th {\n",
       "        vertical-align: top;\n",
       "    }\n",
       "\n",
       "    .dataframe thead th {\n",
       "        text-align: right;\n",
       "    }\n",
       "</style>\n",
       "<table border=\"1\" class=\"dataframe\">\n",
       "  <thead>\n",
       "    <tr style=\"text-align: right;\">\n",
       "      <th></th>\n",
       "      <th>start_station_name</th>\n",
       "      <th>end_station_name</th>\n",
       "      <th>count</th>\n",
       "    </tr>\n",
       "  </thead>\n",
       "  <tbody>\n",
       "    <tr>\n",
       "      <th>0</th>\n",
       "      <td>Central Park S &amp; 6 Ave</td>\n",
       "      <td>Central Park S &amp; 6 Ave</td>\n",
       "      <td>47215</td>\n",
       "    </tr>\n",
       "    <tr>\n",
       "      <th>1</th>\n",
       "      <td>Grand Army Plaza &amp; Central Park S</td>\n",
       "      <td>Grand Army Plaza &amp; Central Park S</td>\n",
       "      <td>18292</td>\n",
       "    </tr>\n",
       "    <tr>\n",
       "      <th>2</th>\n",
       "      <td>Broadway &amp; W 60 St</td>\n",
       "      <td>Broadway &amp; W 60 St</td>\n",
       "      <td>16626</td>\n",
       "    </tr>\n",
       "    <tr>\n",
       "      <th>3</th>\n",
       "      <td>Centre St &amp; Chambers St</td>\n",
       "      <td>Centre St &amp; Chambers St</td>\n",
       "      <td>13979</td>\n",
       "    </tr>\n",
       "    <tr>\n",
       "      <th>4</th>\n",
       "      <td>12 Ave &amp; W 40 St</td>\n",
       "      <td>West St &amp; Chambers St</td>\n",
       "      <td>12417</td>\n",
       "    </tr>\n",
       "  </tbody>\n",
       "</table>\n",
       "</div>"
      ],
      "text/plain": [
       "                  start_station_name                   end_station_name  count\n",
       "0             Central Park S & 6 Ave             Central Park S & 6 Ave  47215\n",
       "1  Grand Army Plaza & Central Park S  Grand Army Plaza & Central Park S  18292\n",
       "2                 Broadway & W 60 St                 Broadway & W 60 St  16626\n",
       "3            Centre St & Chambers St            Centre St & Chambers St  13979\n",
       "4                   12 Ave & W 40 St              West St & Chambers St  12417"
      ]
     },
     "execution_count": 63,
     "metadata": {},
     "output_type": "execute_result"
    }
   ],
   "source": [
    "df3 = client.query(sql_2).to_dataframe()\n",
    "#df3.dropna(inplace=True)\n",
    "df3.head()\n"
   ]
  },
  {
   "cell_type": "code",
   "execution_count": 69,
   "id": "ae82fb24",
   "metadata": {},
   "outputs": [],
   "source": [
    "#trip distribution over the year\n",
    "sql_3 = \"\"\"SELECT EXTRACT(YEAR FROM starttime) AS year, \n",
    "       COUNT(DISTINCT(tripduration)) AS Tripduration\n",
    "FROM `bigquery-public-data.new_york_citibike.citibike_trips`\n",
    "GROUP BY year\n",
    "ORDER BY year;\"\"\""
   ]
  },
  {
   "cell_type": "code",
   "execution_count": 71,
   "id": "1cb3ef77",
   "metadata": {},
   "outputs": [
    {
     "data": {
      "text/html": [
       "<div>\n",
       "<style scoped>\n",
       "    .dataframe tbody tr th:only-of-type {\n",
       "        vertical-align: middle;\n",
       "    }\n",
       "\n",
       "    .dataframe tbody tr th {\n",
       "        vertical-align: top;\n",
       "    }\n",
       "\n",
       "    .dataframe thead th {\n",
       "        text-align: right;\n",
       "    }\n",
       "</style>\n",
       "<table border=\"1\" class=\"dataframe\">\n",
       "  <thead>\n",
       "    <tr style=\"text-align: right;\">\n",
       "      <th></th>\n",
       "      <th>year</th>\n",
       "      <th>Tripduration</th>\n",
       "    </tr>\n",
       "  </thead>\n",
       "  <tbody>\n",
       "    <tr>\n",
       "      <th>1</th>\n",
       "      <td>2013.0</td>\n",
       "      <td>17502</td>\n",
       "    </tr>\n",
       "    <tr>\n",
       "      <th>2</th>\n",
       "      <td>2014.0</td>\n",
       "      <td>19188</td>\n",
       "    </tr>\n",
       "    <tr>\n",
       "      <th>3</th>\n",
       "      <td>2015.0</td>\n",
       "      <td>31114</td>\n",
       "    </tr>\n",
       "    <tr>\n",
       "      <th>4</th>\n",
       "      <td>2016.0</td>\n",
       "      <td>29759</td>\n",
       "    </tr>\n",
       "    <tr>\n",
       "      <th>5</th>\n",
       "      <td>2017.0</td>\n",
       "      <td>29351</td>\n",
       "    </tr>\n",
       "  </tbody>\n",
       "</table>\n",
       "</div>"
      ],
      "text/plain": [
       "     year  Tripduration\n",
       "1  2013.0         17502\n",
       "2  2014.0         19188\n",
       "3  2015.0         31114\n",
       "4  2016.0         29759\n",
       "5  2017.0         29351"
      ]
     },
     "execution_count": 71,
     "metadata": {},
     "output_type": "execute_result"
    }
   ],
   "source": [
    "df4 = client.query(sql_3).to_dataframe()\n",
    "df4.dropna(inplace=True)\n",
    "df4.head()"
   ]
  },
  {
   "cell_type": "code",
   "execution_count": 72,
   "id": "23d7c6f0",
   "metadata": {},
   "outputs": [],
   "source": [
    "%matplotlib inline\n"
   ]
  },
  {
   "cell_type": "code",
   "execution_count": 73,
   "id": "b4491ef9",
   "metadata": {},
   "outputs": [
    {
     "data": {
      "text/plain": [
       "<AxesSubplot:xlabel='year'>"
      ]
     },
     "execution_count": 73,
     "metadata": {},
     "output_type": "execute_result"
    },
    {
     "data": {
      "image/png": "[encoded data removed]",
      "text/plain": [
       "<Figure size 432x288 with 1 Axes>"
      ]
     },
     "metadata": {
      "needs_background": "light"
     },
     "output_type": "display_data"
    }
   ],
   "source": [
    "df4.plot(x=\"year\", y=[\"Tripduration\"], kind=\"bar\")"
   ]
  },
  {
   "cell_type": "code",
   "execution_count": 18,
   "id": "5066a55d",
   "metadata": {},
   "outputs": [],
   "source": [
    "#popular start station name\n",
    "sql_5 = \"\"\"SELECT start_station_name, num_station\n",
    "FROM \n",
    "  (SELECT start_station_name, COUNT(start_station_name) AS       \n",
    "   num_station, EXTRACT(YEAR FROM starttime) AS year\n",
    "   FROM `bigquery-public-data.new_york_citibike.citibike_trips`\n",
    "   WHERE usertype = 'Subscriber'\n",
    "   GROUP BY start_station_name,year\n",
    "   ORDER BY year)\n",
    "ORDER BY num_station DESC\n",
    "LIMIT 10 \"\"\""
   ]
  },
  {
   "cell_type": "code",
   "execution_count": 19,
   "id": "f8ac3b52",
   "metadata": {},
   "outputs": [
    {
     "data": {
      "text/html": [
       "<div>\n",
       "<style scoped>\n",
       "    .dataframe tbody tr th:only-of-type {\n",
       "        vertical-align: middle;\n",
       "    }\n",
       "\n",
       "    .dataframe tbody tr th {\n",
       "        vertical-align: top;\n",
       "    }\n",
       "\n",
       "    .dataframe thead th {\n",
       "        text-align: right;\n",
       "    }\n",
       "</style>\n",
       "<table border=\"1\" class=\"dataframe\">\n",
       "  <thead>\n",
       "    <tr style=\"text-align: right;\">\n",
       "      <th></th>\n",
       "      <th>start_station_name</th>\n",
       "      <th>num_station</th>\n",
       "    </tr>\n",
       "  </thead>\n",
       "  <tbody>\n",
       "    <tr>\n",
       "      <th>0</th>\n",
       "      <td>Pershing Square North</td>\n",
       "      <td>127626</td>\n",
       "    </tr>\n",
       "    <tr>\n",
       "      <th>1</th>\n",
       "      <td>Pershing Square North</td>\n",
       "      <td>105479</td>\n",
       "    </tr>\n",
       "    <tr>\n",
       "      <th>2</th>\n",
       "      <td>Pershing Square North</td>\n",
       "      <td>96750</td>\n",
       "    </tr>\n",
       "    <tr>\n",
       "      <th>3</th>\n",
       "      <td>8 Ave &amp; W 31 St</td>\n",
       "      <td>95839</td>\n",
       "    </tr>\n",
       "    <tr>\n",
       "      <th>4</th>\n",
       "      <td>8 Ave &amp; W 31 St</td>\n",
       "      <td>93858</td>\n",
       "    </tr>\n",
       "  </tbody>\n",
       "</table>\n",
       "</div>"
      ],
      "text/plain": [
       "      start_station_name  num_station\n",
       "0  Pershing Square North       127626\n",
       "1  Pershing Square North       105479\n",
       "2  Pershing Square North        96750\n",
       "3        8 Ave & W 31 St        95839\n",
       "4        8 Ave & W 31 St        93858"
      ]
     },
     "execution_count": 19,
     "metadata": {},
     "output_type": "execute_result"
    }
   ],
   "source": [
    "client = bigquery.Client()\n",
    "df5 = client.query(sql_5).to_dataframe()\n",
    "#df5.dropna(inplace=True)\n",
    "df5.head()"
   ]
  },
  {
   "cell_type": "code",
   "execution_count": 58,
   "id": "f77ccd8a",
   "metadata": {},
   "outputs": [
    {
     "data": {
      "text/plain": [
       "<AxesSubplot:ylabel='start_station_name'>"
      ]
     },
     "execution_count": 58,
     "metadata": {},
     "output_type": "execute_result"
    },
    {
     "data": {
      "image/png": "[encoded data removed]",
      "text/plain": [
       "<Figure size 600x600 with 1 Axes>"
      ]
     },
     "metadata": {},
     "output_type": "display_data"
    }
   ],
   "source": [
    "import matplotlib.pyplot as plt\n",
    "fig = plt.figure(figsize=(3,3), dpi=200)\n",
    "ax = plt.subplot(111)\n",
    "df5['start_station_name'].value_counts().plot(kind='pie', ax=ax, autopct='%1.1f%%', startangle=180, fontsize=5)"
   ]
  },
  {
   "cell_type": "code",
   "execution_count": 20,
   "id": "cb4a11fd",
   "metadata": {},
   "outputs": [
    {
     "data": {
      "text/plain": [
       "<AxesSubplot:xlabel='start_station_name'>"
      ]
     },
     "execution_count": 20,
     "metadata": {},
     "output_type": "execute_result"
    },
    {
     "data": {
      "image/png": "[encoded data removed]",
      "text/plain": [
       "<Figure size 432x288 with 1 Axes>"
      ]
     },
     "metadata": {
      "needs_background": "light"
     },
     "output_type": "display_data"
    }
   ],
   "source": [
    "%matplotlib inline\n",
    "df5.plot(x=\"start_station_name\", y=[\"num_station\"], kind=\"bar\")"
   ]
  },
  {
   "cell_type": "code",
   "execution_count": 22,
   "id": "caf2162d",
   "metadata": {},
   "outputs": [],
   "source": [
    "#popular end station name\n",
    "sql_6 = \"\"\"SELECT end_station_name, num_station\n",
    "FROM \n",
    "  (SELECT end_station_name, COUNT(end_station_name) AS       \n",
    "   num_station, EXTRACT(YEAR FROM stoptime) AS year\n",
    "   FROM `bigquery-public-data.new_york_citibike.citibike_trips`\n",
    "   WHERE usertype = 'Subscriber'\n",
    "   GROUP BY end_station_name,year\n",
    "   ORDER BY year)\n",
    "ORDER BY num_station DESC\n",
    "LIMIT 10 \"\"\""
   ]
  },
  {
   "cell_type": "code",
   "execution_count": 23,
   "id": "040a145a",
   "metadata": {},
   "outputs": [
    {
     "data": {
      "text/html": [
       "<div>\n",
       "<style scoped>\n",
       "    .dataframe tbody tr th:only-of-type {\n",
       "        vertical-align: middle;\n",
       "    }\n",
       "\n",
       "    .dataframe tbody tr th {\n",
       "        vertical-align: top;\n",
       "    }\n",
       "\n",
       "    .dataframe thead th {\n",
       "        text-align: right;\n",
       "    }\n",
       "</style>\n",
       "<table border=\"1\" class=\"dataframe\">\n",
       "  <thead>\n",
       "    <tr style=\"text-align: right;\">\n",
       "      <th></th>\n",
       "      <th>end_station_name</th>\n",
       "      <th>num_station</th>\n",
       "    </tr>\n",
       "  </thead>\n",
       "  <tbody>\n",
       "    <tr>\n",
       "      <th>0</th>\n",
       "      <td>Pershing Square North</td>\n",
       "      <td>126468</td>\n",
       "    </tr>\n",
       "    <tr>\n",
       "      <th>1</th>\n",
       "      <td>Pershing Square North</td>\n",
       "      <td>103269</td>\n",
       "    </tr>\n",
       "    <tr>\n",
       "      <th>2</th>\n",
       "      <td>Broadway &amp; E 22 St</td>\n",
       "      <td>93243</td>\n",
       "    </tr>\n",
       "    <tr>\n",
       "      <th>3</th>\n",
       "      <td>E 17 St &amp; Broadway</td>\n",
       "      <td>91050</td>\n",
       "    </tr>\n",
       "    <tr>\n",
       "      <th>4</th>\n",
       "      <td>Lafayette St &amp; E 8 St</td>\n",
       "      <td>89073</td>\n",
       "    </tr>\n",
       "  </tbody>\n",
       "</table>\n",
       "</div>"
      ],
      "text/plain": [
       "        end_station_name  num_station\n",
       "0  Pershing Square North       126468\n",
       "1  Pershing Square North       103269\n",
       "2     Broadway & E 22 St        93243\n",
       "3     E 17 St & Broadway        91050\n",
       "4  Lafayette St & E 8 St        89073"
      ]
     },
     "execution_count": 23,
     "metadata": {},
     "output_type": "execute_result"
    }
   ],
   "source": [
    "client = bigquery.Client()\n",
    "df6 = client.query(sql_6).to_dataframe()\n",
    "#df5.dropna(inplace=True)\n",
    "df6.head()"
   ]
  },
  {
   "cell_type": "code",
   "execution_count": 59,
   "id": "74f8ff0b",
   "metadata": {},
   "outputs": [
    {
     "data": {
      "text/plain": [
       "<AxesSubplot:ylabel='end_station_name'>"
      ]
     },
     "execution_count": 59,
     "metadata": {},
     "output_type": "execute_result"
    },
    {
     "data": {
      "image/png": "[encoded data removed]",
      "text/plain": [
       "<Figure size 600x600 with 1 Axes>"
      ]
     },
     "metadata": {},
     "output_type": "display_data"
    }
   ],
   "source": [
    "fig = plt.figure(figsize=(3,3), dpi=200)\n",
    "ax = plt.subplot(111)\n",
    "df6['end_station_name'].value_counts().plot(kind='pie', ax=ax, autopct='%1.1f%%', startangle=180, fontsize=5)"
   ]
  },
  {
   "cell_type": "code",
   "execution_count": 25,
   "id": "8fb9ba41",
   "metadata": {},
   "outputs": [
    {
     "data": {
      "text/plain": [
       "<AxesSubplot:xlabel='end_station_name'>"
      ]
     },
     "execution_count": 25,
     "metadata": {},
     "output_type": "execute_result"
    },
    {
     "data": {
      "image/png": "[encoded data removed]",
      "text/plain": [
       "<Figure size 432x288 with 1 Axes>"
      ]
     },
     "metadata": {
      "needs_background": "light"
     },
     "output_type": "display_data"
    }
   ],
   "source": [
    "%matplotlib inline\n",
    "df6.plot(x=\"end_station_name\", y=[\"num_station\"], kind=\"bar\")"
   ]
  },
  {
   "cell_type": "code",
   "execution_count": 32,
   "id": "ea1b462b",
   "metadata": {},
   "outputs": [],
   "source": [
    "#we need to see which bikeid's have mostly used with highest trip duration\n",
    "\n",
    "sql_7 = \"\"\"SELECT bikeid, num_trip, duration, ROUND((duration/num_trip), 2) AS avg_duration_trip\n",
    "FROM\n",
    "    (SELECT bikeid, SUM(tripduration) AS duration, COUNT(*) AS    \n",
    "     num_trip\n",
    "     FROM `bigquery-public-data.new_york_citibike.citibike_trips`\n",
    "     WHERE bikeid IS NOT NULL\n",
    "     GROUP BY bikeid\n",
    "     ORDER BY duration DESC)\n",
    "LIMIT 10;\"\"\""
   ]
  },
  {
   "cell_type": "code",
   "execution_count": 33,
   "id": "c4388fc0",
   "metadata": {},
   "outputs": [
    {
     "data": {
      "text/html": [
       "<div>\n",
       "<style scoped>\n",
       "    .dataframe tbody tr th:only-of-type {\n",
       "        vertical-align: middle;\n",
       "    }\n",
       "\n",
       "    .dataframe tbody tr th {\n",
       "        vertical-align: top;\n",
       "    }\n",
       "\n",
       "    .dataframe thead th {\n",
       "        text-align: right;\n",
       "    }\n",
       "</style>\n",
       "<table border=\"1\" class=\"dataframe\">\n",
       "  <thead>\n",
       "    <tr style=\"text-align: right;\">\n",
       "      <th></th>\n",
       "      <th>bikeid</th>\n",
       "      <th>num_trip</th>\n",
       "      <th>duration</th>\n",
       "      <th>avg_duration_trip</th>\n",
       "    </tr>\n",
       "  </thead>\n",
       "  <tbody>\n",
       "    <tr>\n",
       "      <th>0</th>\n",
       "      <td>30503</td>\n",
       "      <td>1111</td>\n",
       "      <td>20378802</td>\n",
       "      <td>18342.76</td>\n",
       "    </tr>\n",
       "    <tr>\n",
       "      <th>1</th>\n",
       "      <td>16533</td>\n",
       "      <td>5699</td>\n",
       "      <td>19913997</td>\n",
       "      <td>3494.30</td>\n",
       "    </tr>\n",
       "    <tr>\n",
       "      <th>2</th>\n",
       "      <td>16777</td>\n",
       "      <td>4903</td>\n",
       "      <td>19907111</td>\n",
       "      <td>4060.19</td>\n",
       "    </tr>\n",
       "    <tr>\n",
       "      <th>3</th>\n",
       "      <td>18504</td>\n",
       "      <td>5127</td>\n",
       "      <td>18608943</td>\n",
       "      <td>3629.60</td>\n",
       "    </tr>\n",
       "    <tr>\n",
       "      <th>4</th>\n",
       "      <td>15336</td>\n",
       "      <td>5373</td>\n",
       "      <td>17557057</td>\n",
       "      <td>3267.65</td>\n",
       "    </tr>\n",
       "  </tbody>\n",
       "</table>\n",
       "</div>"
      ],
      "text/plain": [
       "   bikeid  num_trip  duration  avg_duration_trip\n",
       "0   30503      1111  20378802           18342.76\n",
       "1   16533      5699  19913997            3494.30\n",
       "2   16777      4903  19907111            4060.19\n",
       "3   18504      5127  18608943            3629.60\n",
       "4   15336      5373  17557057            3267.65"
      ]
     },
     "execution_count": 33,
     "metadata": {},
     "output_type": "execute_result"
    }
   ],
   "source": [
    "df7 = client.query(sql_7).to_dataframe()\n",
    "#df5.dropna(inplace=True)\n",
    "df7.head()"
   ]
  },
  {
   "cell_type": "code",
   "execution_count": 29,
   "id": "c4126ca0",
   "metadata": {},
   "outputs": [
    {
     "data": {
      "text/plain": [
       "<AxesSubplot:xlabel='bikeid'>"
      ]
     },
     "execution_count": 29,
     "metadata": {},
     "output_type": "execute_result"
    },
    {
     "data": {
      "image/png": "[encoded data removed]",
      "text/plain": [
       "<Figure size 432x288 with 1 Axes>"
      ]
     },
     "metadata": {
      "needs_background": "light"
     },
     "output_type": "display_data"
    }
   ],
   "source": [
    "%matplotlib inline\n",
    "df7.plot(x=\"bikeid\", y=[\"num_trip\"], kind=\"bar\")"
   ]
  },
  {
   "cell_type": "code",
   "execution_count": 41,
   "id": "3834efae",
   "metadata": {},
   "outputs": [],
   "source": [
    "#trip distribution based on gender\n",
    "sql_8 = \"\"\"SELECT\n",
    "  EXTRACT(year\n",
    "  FROM\n",
    "    starttime) AS year,\n",
    "  SUM(CASE\n",
    "      WHEN gender='female' THEN tripduration\n",
    "  END\n",
    "    )/60*60 AS Male_ride_time,\n",
    "  SUM(CASE\n",
    "      WHEN gender='male' THEN tripduration\n",
    "  END\n",
    "    )/60*60 AS Female_ride_time\n",
    "FROM\n",
    "  `bigquery-public-data.new_york_citibike.citibike_trips`\n",
    "GROUP BY\n",
    "  year\n",
    "HAVING \n",
    "  year is NOT NULL\n",
    "ORDER BY\n",
    "  year DESC\"\"\""
   ]
  },
  {
   "cell_type": "code",
   "execution_count": 42,
   "id": "ede32d59",
   "metadata": {},
   "outputs": [
    {
     "data": {
      "text/html": [
       "<div>\n",
       "<style scoped>\n",
       "    .dataframe tbody tr th:only-of-type {\n",
       "        vertical-align: middle;\n",
       "    }\n",
       "\n",
       "    .dataframe tbody tr th {\n",
       "        vertical-align: top;\n",
       "    }\n",
       "\n",
       "    .dataframe thead th {\n",
       "        text-align: right;\n",
       "    }\n",
       "</style>\n",
       "<table border=\"1\" class=\"dataframe\">\n",
       "  <thead>\n",
       "    <tr style=\"text-align: right;\">\n",
       "      <th></th>\n",
       "      <th>year</th>\n",
       "      <th>Male_ride_time</th>\n",
       "      <th>Female_ride_time</th>\n",
       "    </tr>\n",
       "  </thead>\n",
       "  <tbody>\n",
       "    <tr>\n",
       "      <th>0</th>\n",
       "      <td>2018</td>\n",
       "      <td>1.267776e+09</td>\n",
       "      <td>3.252467e+09</td>\n",
       "    </tr>\n",
       "    <tr>\n",
       "      <th>1</th>\n",
       "      <td>2017</td>\n",
       "      <td>3.342083e+09</td>\n",
       "      <td>8.188900e+09</td>\n",
       "    </tr>\n",
       "    <tr>\n",
       "      <th>2</th>\n",
       "      <td>2016</td>\n",
       "      <td>2.063674e+09</td>\n",
       "      <td>5.397053e+09</td>\n",
       "    </tr>\n",
       "    <tr>\n",
       "      <th>3</th>\n",
       "      <td>2015</td>\n",
       "      <td>1.878910e+09</td>\n",
       "      <td>5.142384e+09</td>\n",
       "    </tr>\n",
       "    <tr>\n",
       "      <th>4</th>\n",
       "      <td>2014</td>\n",
       "      <td>1.427969e+09</td>\n",
       "      <td>4.165423e+09</td>\n",
       "    </tr>\n",
       "  </tbody>\n",
       "</table>\n",
       "</div>"
      ],
      "text/plain": [
       "   year  Male_ride_time  Female_ride_time\n",
       "0  2018    1.267776e+09      3.252467e+09\n",
       "1  2017    3.342083e+09      8.188900e+09\n",
       "2  2016    2.063674e+09      5.397053e+09\n",
       "3  2015    1.878910e+09      5.142384e+09\n",
       "4  2014    1.427969e+09      4.165423e+09"
      ]
     },
     "execution_count": 42,
     "metadata": {},
     "output_type": "execute_result"
    }
   ],
   "source": [
    "df8 = client.query(sql_8).to_dataframe()\n",
    "#df5.dropna(inplace=True)\n",
    "df8.head()"
   ]
  },
  {
   "cell_type": "code",
   "execution_count": 43,
   "id": "384d06d5",
   "metadata": {},
   "outputs": [
    {
     "data": {
      "text/plain": [
       "<AxesSubplot:xlabel='year'>"
      ]
     },
     "execution_count": 43,
     "metadata": {},
     "output_type": "execute_result"
    },
    {
     "data": {
      "image/png": "[encoded data removed]",
      "text/plain": [
       "<Figure size 432x288 with 1 Axes>"
      ]
     },
     "metadata": {
      "needs_background": "light"
     },
     "output_type": "display_data"
    }
   ],
   "source": [
    "%matplotlib inline\n",
    "df8.plot(x=\"year\", y=[\"Male_ride_time\", \"Female_ride_time\"], kind=\"bar\")"
   ]
  },
  {
   "cell_type": "code",
   "execution_count": 48,
   "id": "96bc6363",
   "metadata": {},
   "outputs": [],
   "source": [
    "#Popular routes analysis\n",
    "sql_9 = \"\"\"SELECT\n",
    "  start_station_id,\n",
    "  end_station_id,\n",
    "  COUNT(*) AS Trips_on_route\n",
    "FROM\n",
    "  `bigquery-public-data.new_york_citibike.citibike_trips`\n",
    "WHERE\n",
    "  (start_station_id != end_station_id) #or (start_station_id = end_station_id and tripduration > 300)\n",
    "GROUP BY\n",
    "  start_station_id,\n",
    "  end_station_id\n",
    "ORDER BY\n",
    "  Trips_on_route DESC\n",
    "LIMIT\n",
    "  10\"\"\""
   ]
  },
  {
   "cell_type": "code",
   "execution_count": 49,
   "id": "edbc35ec",
   "metadata": {},
   "outputs": [
    {
     "data": {
      "text/html": [
       "<div>\n",
       "<style scoped>\n",
       "    .dataframe tbody tr th:only-of-type {\n",
       "        vertical-align: middle;\n",
       "    }\n",
       "\n",
       "    .dataframe tbody tr th {\n",
       "        vertical-align: top;\n",
       "    }\n",
       "\n",
       "    .dataframe thead th {\n",
       "        text-align: right;\n",
       "    }\n",
       "</style>\n",
       "<table border=\"1\" class=\"dataframe\">\n",
       "  <thead>\n",
       "    <tr style=\"text-align: right;\">\n",
       "      <th></th>\n",
       "      <th>start_station_id</th>\n",
       "      <th>end_station_id</th>\n",
       "      <th>Trips_on_route</th>\n",
       "    </tr>\n",
       "  </thead>\n",
       "  <tbody>\n",
       "    <tr>\n",
       "      <th>0</th>\n",
       "      <td>514</td>\n",
       "      <td>426</td>\n",
       "      <td>18667</td>\n",
       "    </tr>\n",
       "    <tr>\n",
       "      <th>1</th>\n",
       "      <td>435</td>\n",
       "      <td>509</td>\n",
       "      <td>17509</td>\n",
       "    </tr>\n",
       "    <tr>\n",
       "      <th>2</th>\n",
       "      <td>519</td>\n",
       "      <td>492</td>\n",
       "      <td>16228</td>\n",
       "    </tr>\n",
       "    <tr>\n",
       "      <th>3</th>\n",
       "      <td>435</td>\n",
       "      <td>462</td>\n",
       "      <td>15120</td>\n",
       "    </tr>\n",
       "    <tr>\n",
       "      <th>4</th>\n",
       "      <td>426</td>\n",
       "      <td>514</td>\n",
       "      <td>14353</td>\n",
       "    </tr>\n",
       "  </tbody>\n",
       "</table>\n",
       "</div>"
      ],
      "text/plain": [
       "   start_station_id  end_station_id  Trips_on_route\n",
       "0               514             426           18667\n",
       "1               435             509           17509\n",
       "2               519             492           16228\n",
       "3               435             462           15120\n",
       "4               426             514           14353"
      ]
     },
     "execution_count": 49,
     "metadata": {},
     "output_type": "execute_result"
    }
   ],
   "source": [
    "df9 = client.query(sql_9).to_dataframe()\n",
    "#df5.dropna(inplace=True)\n",
    "df9.head()"
   ]
  },
  {
   "cell_type": "code",
   "execution_count": 50,
   "id": "49a4ebcc",
   "metadata": {},
   "outputs": [],
   "source": [
    "#Stations with lowest number of trips\n",
    "sql_10 = \"\"\"SELECT start_station_name AS station, COUNT(start_station_name) AS num_station\n",
    "FROM `bigquery-public-data.new_york_citibike.citibike_trips`\n",
    "GROUP BY station\n",
    "ORDER BY num_station\n",
    "LIMIT 10\"\"\""
   ]
  },
  {
   "cell_type": "code",
   "execution_count": 51,
   "id": "45724e35",
   "metadata": {},
   "outputs": [
    {
     "data": {
      "text/html": [
       "<div>\n",
       "<style scoped>\n",
       "    .dataframe tbody tr th:only-of-type {\n",
       "        vertical-align: middle;\n",
       "    }\n",
       "\n",
       "    .dataframe tbody tr th {\n",
       "        vertical-align: top;\n",
       "    }\n",
       "\n",
       "    .dataframe thead th {\n",
       "        text-align: right;\n",
       "    }\n",
       "</style>\n",
       "<table border=\"1\" class=\"dataframe\">\n",
       "  <thead>\n",
       "    <tr style=\"text-align: right;\">\n",
       "      <th></th>\n",
       "      <th>station</th>\n",
       "      <th>num_station</th>\n",
       "    </tr>\n",
       "  </thead>\n",
       "  <tbody>\n",
       "    <tr>\n",
       "      <th>0</th>\n",
       "      <td>2 Ave &amp; E 105 St</td>\n",
       "      <td>1</td>\n",
       "    </tr>\n",
       "    <tr>\n",
       "      <th>1</th>\n",
       "      <td>333 Johnson TEST 1</td>\n",
       "      <td>1</td>\n",
       "    </tr>\n",
       "    <tr>\n",
       "      <th>2</th>\n",
       "      <td>LPI Facility</td>\n",
       "      <td>2</td>\n",
       "    </tr>\n",
       "    <tr>\n",
       "      <th>3</th>\n",
       "      <td>Expansion Tech Station</td>\n",
       "      <td>2</td>\n",
       "    </tr>\n",
       "    <tr>\n",
       "      <th>4</th>\n",
       "      <td>Apache</td>\n",
       "      <td>3</td>\n",
       "    </tr>\n",
       "  </tbody>\n",
       "</table>\n",
       "</div>"
      ],
      "text/plain": [
       "                  station  num_station\n",
       "0        2 Ave & E 105 St            1\n",
       "1      333 Johnson TEST 1            1\n",
       "2            LPI Facility            2\n",
       "3  Expansion Tech Station            2\n",
       "4                  Apache            3"
      ]
     },
     "execution_count": 51,
     "metadata": {},
     "output_type": "execute_result"
    }
   ],
   "source": [
    "df10 = client.query(sql_10).to_dataframe()\n",
    "#df5.dropna(inplace=True)\n",
    "df10.head()"
   ]
  },
  {
   "cell_type": "code",
   "execution_count": 52,
   "id": "1fd83899",
   "metadata": {},
   "outputs": [],
   "source": []
  },
  {
   "cell_type": "code",
   "execution_count": null,
   "id": "b3af683e",
   "metadata": {},
   "outputs": [],
   "source": []
  },
  {
   "cell_type": "code",
   "execution_count": null,
   "id": "548b10e2",
   "metadata": {},
   "outputs": [],
   "source": []
  }
 ],
 "metadata": {
  "kernelspec": {
   "display_name": "Python 3",
   "language": "python",
   "name": "python3"
  },
  "language_info": {
   "codemirror_mode": {
    "name": "ipython",
    "version": 3
   },
   "file_extension": ".py",
   "mimetype": "text/x-python",
   "name": "python",
   "nbconvert_exporter": "python",
   "pygments_lexer": "ipython3",
   "version": "3.8.8"
  }
 },
 "nbformat": 4,
 "nbformat_minor": 5
}
