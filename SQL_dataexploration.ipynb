{
 "cells": [
  {
   "cell_type": "markdown",
   "id": "b468af76",
   "metadata": {},
   "source": [
    "This notebook is to handle different SQL queries to better explore and understand the data. The data cleaning and covertion to pandas for different type of data handling is already done. Here importance is for SQL."
   ]
  },
  {
   "cell_type": "code",
   "execution_count": 4,
   "id": "33782ce6",
   "metadata": {},
   "outputs": [
    {
     "name": "stdout",
     "output_type": "stream",
     "text": [
      "The google.cloud.bigquery extension is already loaded. To reload it, use:\n",
      "  %reload_ext google.cloud.bigquery\n"
     ]
    }
   ],
   "source": [
    "import pandas as pd\n",
    "import pandas_gbq\n",
    "from google.cloud import bigquery\n",
    "%load_ext google.cloud.bigquery\n",
    "# Set your default project here\n",
    "pandas_gbq.context.project = 'bigquery-public-data'\n",
    "pandas_gbq.context.dialect = 'standard'"
   ]
  },
  {
   "cell_type": "code",
   "execution_count": 5,
   "id": "25e3897a",
   "metadata": {},
   "outputs": [],
   "source": [
    "import os\n",
    "os.environ[\"GOOGLE_APPLICATION_CREDENTIALS\"]=r\"C:\\Users\\pravd\\Downloads\\unacast-334100-f70d949ff84e.json\""
   ]
  },
  {
   "cell_type": "markdown",
   "id": "3f7dbd33",
   "metadata": {},
   "source": [
    "The below query returns number of bikes in usage per year"
   ]
  },
  {
   "cell_type": "code",
   "execution_count": 7,
   "id": "6150d4db",
   "metadata": {},
   "outputs": [
    {
     "name": "stderr",
     "output_type": "stream",
     "text": [
      "Query complete after 0.09s: 100%|████████████████████████████████████████████████████| 4/4 [00:00<00:00, 802.12query/s]\n",
      "Downloading: 100%|█████████████████████████████████████████████████████████████████████| 7/7 [00:02<00:00,  2.38rows/s]\n"
     ]
    },
    {
     "data": {
      "text/html": [
       "<div>\n",
       "<style scoped>\n",
       "    .dataframe tbody tr th:only-of-type {\n",
       "        vertical-align: middle;\n",
       "    }\n",
       "\n",
       "    .dataframe tbody tr th {\n",
       "        vertical-align: top;\n",
       "    }\n",
       "\n",
       "    .dataframe thead th {\n",
       "        text-align: right;\n",
       "    }\n",
       "</style>\n",
       "<table border=\"1\" class=\"dataframe\">\n",
       "  <thead>\n",
       "    <tr style=\"text-align: right;\">\n",
       "      <th></th>\n",
       "      <th>year</th>\n",
       "      <th>num_bikes</th>\n",
       "    </tr>\n",
       "  </thead>\n",
       "  <tbody>\n",
       "    <tr>\n",
       "      <th>0</th>\n",
       "      <td>NaN</td>\n",
       "      <td>0</td>\n",
       "    </tr>\n",
       "    <tr>\n",
       "      <th>1</th>\n",
       "      <td>2013.0</td>\n",
       "      <td>6503</td>\n",
       "    </tr>\n",
       "    <tr>\n",
       "      <th>2</th>\n",
       "      <td>2014.0</td>\n",
       "      <td>6811</td>\n",
       "    </tr>\n",
       "    <tr>\n",
       "      <th>3</th>\n",
       "      <td>2015.0</td>\n",
       "      <td>8477</td>\n",
       "    </tr>\n",
       "    <tr>\n",
       "      <th>4</th>\n",
       "      <td>2016.0</td>\n",
       "      <td>10495</td>\n",
       "    </tr>\n",
       "    <tr>\n",
       "      <th>5</th>\n",
       "      <td>2017.0</td>\n",
       "      <td>13820</td>\n",
       "    </tr>\n",
       "    <tr>\n",
       "      <th>6</th>\n",
       "      <td>2018.0</td>\n",
       "      <td>12947</td>\n",
       "    </tr>\n",
       "  </tbody>\n",
       "</table>\n",
       "</div>"
      ],
      "text/plain": [
       "     year  num_bikes\n",
       "0     NaN          0\n",
       "1  2013.0       6503\n",
       "2  2014.0       6811\n",
       "3  2015.0       8477\n",
       "4  2016.0      10495\n",
       "5  2017.0      13820\n",
       "6  2018.0      12947"
      ]
     },
     "execution_count": 7,
     "metadata": {},
     "output_type": "execute_result"
    }
   ],
   "source": [
    "%%bigquery\n",
    "SELECT EXTRACT(YEAR FROM starttime) AS year, \n",
    "       COUNT(DISTINCT(bikeid)) AS num_bikes\n",
    "FROM `bigquery-public-data.new_york_citibike.citibike_trips`\n",
    "GROUP BY year\n",
    "ORDER BY year;"
   ]
  },
  {
   "cell_type": "markdown",
   "id": "9ba5e615",
   "metadata": {},
   "source": [
    "The below query returns count of subscribers and customers "
   ]
  },
  {
   "cell_type": "code",
   "execution_count": 12,
   "id": "20075589",
   "metadata": {},
   "outputs": [
    {
     "name": "stderr",
     "output_type": "stream",
     "text": [
      "Query complete after 0.01s: 100%|████████████████████████████████████████████████████| 3/3 [00:00<00:00, 501.39query/s]\n",
      "Downloading: 100%|█████████████████████████████████████████████████████████████████████| 7/7 [00:01<00:00,  4.55rows/s]\n"
     ]
    },
    {
     "data": {
      "text/html": [
       "<div>\n",
       "<style scoped>\n",
       "    .dataframe tbody tr th:only-of-type {\n",
       "        vertical-align: middle;\n",
       "    }\n",
       "\n",
       "    .dataframe tbody tr th {\n",
       "        vertical-align: top;\n",
       "    }\n",
       "\n",
       "    .dataframe thead th {\n",
       "        text-align: right;\n",
       "    }\n",
       "</style>\n",
       "<table border=\"1\" class=\"dataframe\">\n",
       "  <thead>\n",
       "    <tr style=\"text-align: right;\">\n",
       "      <th></th>\n",
       "      <th>year</th>\n",
       "      <th>count_sub</th>\n",
       "      <th>count_cus</th>\n",
       "    </tr>\n",
       "  </thead>\n",
       "  <tbody>\n",
       "    <tr>\n",
       "      <th>0</th>\n",
       "      <td>NaN</td>\n",
       "      <td>0</td>\n",
       "      <td>0</td>\n",
       "    </tr>\n",
       "    <tr>\n",
       "      <th>1</th>\n",
       "      <td>2013.0</td>\n",
       "      <td>4370245</td>\n",
       "      <td>666940</td>\n",
       "    </tr>\n",
       "    <tr>\n",
       "      <th>2</th>\n",
       "      <td>2014.0</td>\n",
       "      <td>7287721</td>\n",
       "      <td>793495</td>\n",
       "    </tr>\n",
       "    <tr>\n",
       "      <th>3</th>\n",
       "      <td>2015.0</td>\n",
       "      <td>8626638</td>\n",
       "      <td>1311331</td>\n",
       "    </tr>\n",
       "    <tr>\n",
       "      <th>4</th>\n",
       "      <td>2016.0</td>\n",
       "      <td>9026384</td>\n",
       "      <td>1236265</td>\n",
       "    </tr>\n",
       "    <tr>\n",
       "      <th>5</th>\n",
       "      <td>2017.0</td>\n",
       "      <td>12441957</td>\n",
       "      <td>1676712</td>\n",
       "    </tr>\n",
       "    <tr>\n",
       "      <th>6</th>\n",
       "      <td>2018.0</td>\n",
       "      <td>5164627</td>\n",
       "      <td>506406</td>\n",
       "    </tr>\n",
       "  </tbody>\n",
       "</table>\n",
       "</div>"
      ],
      "text/plain": [
       "     year  count_sub  count_cus\n",
       "0     NaN          0          0\n",
       "1  2013.0    4370245     666940\n",
       "2  2014.0    7287721     793495\n",
       "3  2015.0    8626638    1311331\n",
       "4  2016.0    9026384    1236265\n",
       "5  2017.0   12441957    1676712\n",
       "6  2018.0    5164627     506406"
      ]
     },
     "execution_count": 12,
     "metadata": {},
     "output_type": "execute_result"
    }
   ],
   "source": [
    "%%bigquery\n",
    "\n",
    "SELECT EXTRACT(YEAR FROM starttime) AS year,\n",
    "COUNT(CASE WHEN usertype= 'Subscriber' THEN 1 END) AS count_sub,\n",
    "COUNT(CASE WHEN usertype= 'Customer' THEN 1 END) AS count_cus,\n",
    "FROM `bigquery-public-data.new_york_citibike.citibike_trips`\n",
    "GROUP BY year\n",
    "ORDER BY year;"
   ]
  },
  {
   "cell_type": "markdown",
   "id": "37e7a74d",
   "metadata": {},
   "source": [
    "The below query returns count on female and male"
   ]
  },
  {
   "cell_type": "code",
   "execution_count": 22,
   "id": "a2ca027f",
   "metadata": {},
   "outputs": [
    {
     "name": "stderr",
     "output_type": "stream",
     "text": [
      "Query complete after 0.00s: 100%|████████████████████████████████████████████████████| 3/3 [00:00<00:00, 752.39query/s]\n",
      "Downloading: 100%|█████████████████████████████████████████████████████████████████████| 7/7 [00:02<00:00,  2.45rows/s]\n"
     ]
    },
    {
     "data": {
      "text/html": [
       "<div>\n",
       "<style scoped>\n",
       "    .dataframe tbody tr th:only-of-type {\n",
       "        vertical-align: middle;\n",
       "    }\n",
       "\n",
       "    .dataframe tbody tr th {\n",
       "        vertical-align: top;\n",
       "    }\n",
       "\n",
       "    .dataframe thead th {\n",
       "        text-align: right;\n",
       "    }\n",
       "</style>\n",
       "<table border=\"1\" class=\"dataframe\">\n",
       "  <thead>\n",
       "    <tr style=\"text-align: right;\">\n",
       "      <th></th>\n",
       "      <th>year</th>\n",
       "      <th>count_fem</th>\n",
       "      <th>count_male</th>\n",
       "    </tr>\n",
       "  </thead>\n",
       "  <tbody>\n",
       "    <tr>\n",
       "      <th>0</th>\n",
       "      <td>NaN</td>\n",
       "      <td>0</td>\n",
       "      <td>0</td>\n",
       "    </tr>\n",
       "    <tr>\n",
       "      <th>1</th>\n",
       "      <td>2013.0</td>\n",
       "      <td>1034631</td>\n",
       "      <td>3335391</td>\n",
       "    </tr>\n",
       "    <tr>\n",
       "      <th>2</th>\n",
       "      <td>2014.0</td>\n",
       "      <td>1650274</td>\n",
       "      <td>5635962</td>\n",
       "    </tr>\n",
       "    <tr>\n",
       "      <th>3</th>\n",
       "      <td>2015.0</td>\n",
       "      <td>2006962</td>\n",
       "      <td>6608929</td>\n",
       "    </tr>\n",
       "    <tr>\n",
       "      <th>4</th>\n",
       "      <td>2016.0</td>\n",
       "      <td>2186917</td>\n",
       "      <td>6769032</td>\n",
       "    </tr>\n",
       "    <tr>\n",
       "      <th>5</th>\n",
       "      <td>2017.0</td>\n",
       "      <td>3236735</td>\n",
       "      <td>9306602</td>\n",
       "    </tr>\n",
       "    <tr>\n",
       "      <th>6</th>\n",
       "      <td>2018.0</td>\n",
       "      <td>1260893</td>\n",
       "      <td>3955871</td>\n",
       "    </tr>\n",
       "  </tbody>\n",
       "</table>\n",
       "</div>"
      ],
      "text/plain": [
       "     year  count_fem  count_male\n",
       "0     NaN          0           0\n",
       "1  2013.0    1034631     3335391\n",
       "2  2014.0    1650274     5635962\n",
       "3  2015.0    2006962     6608929\n",
       "4  2016.0    2186917     6769032\n",
       "5  2017.0    3236735     9306602\n",
       "6  2018.0    1260893     3955871"
      ]
     },
     "execution_count": 22,
     "metadata": {},
     "output_type": "execute_result"
    }
   ],
   "source": [
    "%%bigquery\n",
    "SELECT EXTRACT(YEAR FROM starttime) AS year,\n",
    "COUNT(CASE WHEN gender= 'female' THEN 1 END) AS count_fem,\n",
    "COUNT(CASE WHEN gender= 'male' THEN 1 END) AS count_male,\n",
    "FROM `bigquery-public-data.new_york_citibike.citibike_trips`\n",
    "GROUP BY year\n",
    "ORDER BY year;"
   ]
  },
  {
   "cell_type": "markdown",
   "id": "e060ecba",
   "metadata": {},
   "source": [
    "Query Visualize using pandas"
   ]
  },
  {
   "cell_type": "code",
   "execution_count": 23,
   "id": "343a43fa",
   "metadata": {},
   "outputs": [],
   "source": [
    "\n",
    "client = bigquery.Client()"
   ]
  },
  {
   "cell_type": "code",
   "execution_count": 43,
   "id": "a03a8e46",
   "metadata": {},
   "outputs": [
    {
     "data": {
      "text/html": [
       "<div>\n",
       "<style scoped>\n",
       "    .dataframe tbody tr th:only-of-type {\n",
       "        vertical-align: middle;\n",
       "    }\n",
       "\n",
       "    .dataframe tbody tr th {\n",
       "        vertical-align: top;\n",
       "    }\n",
       "\n",
       "    .dataframe thead th {\n",
       "        text-align: right;\n",
       "    }\n",
       "</style>\n",
       "<table border=\"1\" class=\"dataframe\">\n",
       "  <thead>\n",
       "    <tr style=\"text-align: right;\">\n",
       "      <th></th>\n",
       "      <th>year</th>\n",
       "      <th>count_fem</th>\n",
       "      <th>count_male</th>\n",
       "    </tr>\n",
       "  </thead>\n",
       "  <tbody>\n",
       "    <tr>\n",
       "      <th>1</th>\n",
       "      <td>2013.0</td>\n",
       "      <td>1034631</td>\n",
       "      <td>3335391</td>\n",
       "    </tr>\n",
       "    <tr>\n",
       "      <th>2</th>\n",
       "      <td>2014.0</td>\n",
       "      <td>1650274</td>\n",
       "      <td>5635962</td>\n",
       "    </tr>\n",
       "    <tr>\n",
       "      <th>3</th>\n",
       "      <td>2015.0</td>\n",
       "      <td>2006962</td>\n",
       "      <td>6608929</td>\n",
       "    </tr>\n",
       "    <tr>\n",
       "      <th>4</th>\n",
       "      <td>2016.0</td>\n",
       "      <td>2186917</td>\n",
       "      <td>6769032</td>\n",
       "    </tr>\n",
       "    <tr>\n",
       "      <th>5</th>\n",
       "      <td>2017.0</td>\n",
       "      <td>3236735</td>\n",
       "      <td>9306602</td>\n",
       "    </tr>\n",
       "  </tbody>\n",
       "</table>\n",
       "</div>"
      ],
      "text/plain": [
       "     year  count_fem  count_male\n",
       "1  2013.0    1034631     3335391\n",
       "2  2014.0    1650274     5635962\n",
       "3  2015.0    2006962     6608929\n",
       "4  2016.0    2186917     6769032\n",
       "5  2017.0    3236735     9306602"
      ]
     },
     "execution_count": 43,
     "metadata": {},
     "output_type": "execute_result"
    }
   ],
   "source": [
    "sql = \"\"\" SELECT EXTRACT(YEAR FROM starttime) AS year,\n",
    "COUNT(CASE WHEN gender= 'female' THEN 1 END) AS count_fem,\n",
    "COUNT(CASE WHEN gender= 'male' THEN 1 END) AS count_male,\n",
    "FROM `bigquery-public-data.new_york_citibike.citibike_trips`\n",
    "GROUP BY year\n",
    "ORDER BY year; \"\"\"\n",
    "\n",
    "df = client.query(sql).to_dataframe()\n",
    "df.dropna(inplace=True)\n",
    "df.head()"
   ]
  },
  {
   "cell_type": "code",
   "execution_count": 44,
   "id": "a3780654",
   "metadata": {},
   "outputs": [],
   "source": [
    "%matplotlib inline"
   ]
  },
  {
   "cell_type": "code",
   "execution_count": 45,
   "id": "9cb5cfec",
   "metadata": {},
   "outputs": [
    {
     "data": {
      "text/plain": [
       "<AxesSubplot:xlabel='year'>"
      ]
     },
     "execution_count": 45,
     "metadata": {},
     "output_type": "execute_result"
    },
    {
     "data": {
      "image/png": "[encoded data removed]",
      "text/plain": [
       "<Figure size 432x288 with 1 Axes>"
      ]
     },
     "metadata": {
      "needs_background": "light"
     },
     "output_type": "display_data"
    }
   ],
   "source": [
    "df.plot(x=\"year\", y=[\"count_fem\", \"count_male\"], kind=\"bar\")"
   ]
  },
  {
   "cell_type": "code",
   "execution_count": 49,
   "id": "6a2618cb",
   "metadata": {},
   "outputs": [],
   "source": [
    "sql_1 = \"\"\"SELECT\n",
    "  EXTRACT(year\n",
    "  FROM\n",
    "    starttime) AS year,\n",
    "  SUM(CASE\n",
    "      WHEN gender='female' THEN tripduration\n",
    "  END\n",
    "    )/60*60 AS Male_ride_time,\n",
    "  SUM(CASE\n",
    "      WHEN gender='male' THEN tripduration\n",
    "  END\n",
    "    )/60*60 AS Female_ride_time\n",
    "FROM\n",
    "  `bigquery-public-data.new_york_citibike.citibike_trips`\n",
    "GROUP BY\n",
    "  year\n",
    "HAVING \n",
    "  year is NOT NULL\n",
    "ORDER BY\n",
    "  year DESC\"\"\""
   ]
  },
  {
   "cell_type": "code",
   "execution_count": 50,
   "id": "e12d6c96",
   "metadata": {},
   "outputs": [
    {
     "data": {
      "text/html": [
       "<div>\n",
       "<style scoped>\n",
       "    .dataframe tbody tr th:only-of-type {\n",
       "        vertical-align: middle;\n",
       "    }\n",
       "\n",
       "    .dataframe tbody tr th {\n",
       "        vertical-align: top;\n",
       "    }\n",
       "\n",
       "    .dataframe thead th {\n",
       "        text-align: right;\n",
       "    }\n",
       "</style>\n",
       "<table border=\"1\" class=\"dataframe\">\n",
       "  <thead>\n",
       "    <tr style=\"text-align: right;\">\n",
       "      <th></th>\n",
       "      <th>year</th>\n",
       "      <th>Male_ride_time</th>\n",
       "      <th>Female_ride_time</th>\n",
       "    </tr>\n",
       "  </thead>\n",
       "  <tbody>\n",
       "    <tr>\n",
       "      <th>0</th>\n",
       "      <td>2018</td>\n",
       "      <td>1.267776e+09</td>\n",
       "      <td>3.252467e+09</td>\n",
       "    </tr>\n",
       "    <tr>\n",
       "      <th>1</th>\n",
       "      <td>2017</td>\n",
       "      <td>3.342083e+09</td>\n",
       "      <td>8.188900e+09</td>\n",
       "    </tr>\n",
       "    <tr>\n",
       "      <th>2</th>\n",
       "      <td>2016</td>\n",
       "      <td>2.063674e+09</td>\n",
       "      <td>5.397053e+09</td>\n",
       "    </tr>\n",
       "    <tr>\n",
       "      <th>3</th>\n",
       "      <td>2015</td>\n",
       "      <td>1.878910e+09</td>\n",
       "      <td>5.142384e+09</td>\n",
       "    </tr>\n",
       "    <tr>\n",
       "      <th>4</th>\n",
       "      <td>2014</td>\n",
       "      <td>1.427969e+09</td>\n",
       "      <td>4.165423e+09</td>\n",
       "    </tr>\n",
       "  </tbody>\n",
       "</table>\n",
       "</div>"
      ],
      "text/plain": [
       "   year  Male_ride_time  Female_ride_time\n",
       "0  2018    1.267776e+09      3.252467e+09\n",
       "1  2017    3.342083e+09      8.188900e+09\n",
       "2  2016    2.063674e+09      5.397053e+09\n",
       "3  2015    1.878910e+09      5.142384e+09\n",
       "4  2014    1.427969e+09      4.165423e+09"
      ]
     },
     "execution_count": 50,
     "metadata": {},
     "output_type": "execute_result"
    }
   ],
   "source": [
    "df2 = client.query(sql_1).to_dataframe()\n",
    "df2.dropna(inplace=True)\n",
    "df2.head()\n"
   ]
  },
  {
   "cell_type": "code",
   "execution_count": 52,
   "id": "47b4a745",
   "metadata": {},
   "outputs": [
    {
     "data": {
      "text/plain": [
       "<AxesSubplot:xlabel='year'>"
      ]
     },
     "execution_count": 52,
     "metadata": {},
     "output_type": "execute_result"
    },
    {
     "data": {
      "image/png": "[encoded data removed]",
      "text/plain": [
       "<Figure size 432x288 with 1 Axes>"
      ]
     },
     "metadata": {
      "needs_background": "light"
     },
     "output_type": "display_data"
    }
   ],
   "source": [
    "%matplotlib inline\n",
    "df2.plot(x=\"year\", y=[\"Male_ride_time\", \"Female_ride_time\"], kind=\"bar\")"
   ]
  },
  {
   "cell_type": "code",
   "execution_count": null,
   "id": "2ac6759f",
   "metadata": {},
   "outputs": [],
   "source": []
  }
 ],
 "metadata": {
  "kernelspec": {
   "display_name": "Python 3",
   "language": "python",
   "name": "python3"
  },
  "language_info": {
   "codemirror_mode": {
    "name": "ipython",
    "version": 3
   },
   "file_extension": ".py",
   "mimetype": "text/x-python",
   "name": "python",
   "nbconvert_exporter": "python",
   "pygments_lexer": "ipython3",
   "version": "3.8.8"
  }
 },
 "nbformat": 4,
 "nbformat_minor": 5
}
